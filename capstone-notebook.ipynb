{
 "cells": [
  {
   "cell_type": "code",
   "execution_count": 24,
   "id": "89b0193f",
   "metadata": {},
   "outputs": [],
   "source": [
    "import pandas as pd\n",
    "import numpy as np\n",
    "import seaborn as sns\n",
    "import plotly.express as px\n",
    "\n",
    "from sklearn.linear_model import LinearRegression, Ridge, Lasso\n",
    "from sklearn.metrics import mean_squared_error, mean_absolute_error\n",
    "from sklearn.pipeline import Pipeline\n",
    "from sklearn.model_selection import train_test_split, GridSearchCV\n",
    "from sklearn.preprocessing import PolynomialFeatures, OneHotEncoder, StandardScaler\n",
    "from sklearn.feature_selection import SequentialFeatureSelector, SelectFromModel\n",
    "from sklearn.svm import SVR\n",
    "\n",
    "pd.options.display.float_format = '{:.2f}'.format\n",
    "\n",
    "import warnings\n",
    "warnings.filterwarnings('ignore')"
   ]
  },
  {
   "cell_type": "code",
   "execution_count": 25,
   "id": "814326c2",
   "metadata": {},
   "outputs": [],
   "source": [
    "# source: https://www.kaggle.com/datasets/stucom/solar-energy-power-generation-dataset/data\n",
    "solar_df = pd.read_csv('spg.csv')"
   ]
  },
  {
   "cell_type": "code",
   "execution_count": 26,
   "id": "adaa1193",
   "metadata": {},
   "outputs": [
    {
     "name": "stdout",
     "output_type": "stream",
     "text": [
      "<class 'pandas.core.frame.DataFrame'>\n",
      "RangeIndex: 4213 entries, 0 to 4212\n",
      "Data columns (total 21 columns):\n",
      " #   Column                             Non-Null Count  Dtype  \n",
      "---  ------                             --------------  -----  \n",
      " 0   temperature_2_m_above_gnd          4213 non-null   float64\n",
      " 1   relative_humidity_2_m_above_gnd    4213 non-null   int64  \n",
      " 2   mean_sea_level_pressure_MSL        4213 non-null   float64\n",
      " 3   total_precipitation_sfc            4213 non-null   float64\n",
      " 4   snowfall_amount_sfc                4213 non-null   float64\n",
      " 5   total_cloud_cover_sfc              4213 non-null   float64\n",
      " 6   high_cloud_cover_high_cld_lay      4213 non-null   int64  \n",
      " 7   medium_cloud_cover_mid_cld_lay     4213 non-null   int64  \n",
      " 8   low_cloud_cover_low_cld_lay        4213 non-null   int64  \n",
      " 9   shortwave_radiation_backwards_sfc  4213 non-null   float64\n",
      " 10  wind_speed_10_m_above_gnd          4213 non-null   float64\n",
      " 11  wind_direction_10_m_above_gnd      4213 non-null   float64\n",
      " 12  wind_speed_80_m_above_gnd          4213 non-null   float64\n",
      " 13  wind_direction_80_m_above_gnd      4213 non-null   float64\n",
      " 14  wind_speed_900_mb                  4213 non-null   float64\n",
      " 15  wind_direction_900_mb              4213 non-null   float64\n",
      " 16  wind_gust_10_m_above_gnd           4213 non-null   float64\n",
      " 17  angle_of_incidence                 4213 non-null   float64\n",
      " 18  zenith                             4213 non-null   float64\n",
      " 19  azimuth                            4213 non-null   float64\n",
      " 20  generated_power_kw                 4213 non-null   float64\n",
      "dtypes: float64(17), int64(4)\n",
      "memory usage: 691.3 KB\n"
     ]
    }
   ],
   "source": [
    "solar_df.info()"
   ]
  },
  {
   "cell_type": "code",
   "execution_count": 27,
   "id": "95ad55da",
   "metadata": {},
   "outputs": [
    {
     "data": {
      "text/plain": [
       "temperature_2_m_above_gnd            0\n",
       "relative_humidity_2_m_above_gnd      0\n",
       "mean_sea_level_pressure_MSL          0\n",
       "total_precipitation_sfc              0\n",
       "snowfall_amount_sfc                  0\n",
       "total_cloud_cover_sfc                0\n",
       "high_cloud_cover_high_cld_lay        0\n",
       "medium_cloud_cover_mid_cld_lay       0\n",
       "low_cloud_cover_low_cld_lay          0\n",
       "shortwave_radiation_backwards_sfc    0\n",
       "wind_speed_10_m_above_gnd            0\n",
       "wind_direction_10_m_above_gnd        0\n",
       "wind_speed_80_m_above_gnd            0\n",
       "wind_direction_80_m_above_gnd        0\n",
       "wind_speed_900_mb                    0\n",
       "wind_direction_900_mb                0\n",
       "wind_gust_10_m_above_gnd             0\n",
       "angle_of_incidence                   0\n",
       "zenith                               0\n",
       "azimuth                              0\n",
       "generated_power_kw                   0\n",
       "dtype: int64"
      ]
     },
     "execution_count": 27,
     "metadata": {},
     "output_type": "execute_result"
    }
   ],
   "source": [
    "solar_df.isna().sum()"
   ]
  },
  {
   "cell_type": "markdown",
   "id": "d7b8ee12",
   "metadata": {},
   "source": [
    "## Observations\n",
    "- This is an extremely straightforward, numeric-only dataset with no missing values. \n",
    "- generated_power_kw is the y value, everything else is an input"
   ]
  },
  {
   "cell_type": "markdown",
   "id": "9b136c29",
   "metadata": {},
   "source": [
    "## Linear Regression"
   ]
  },
  {
   "cell_type": "code",
   "execution_count": 28,
   "id": "7f9383d9",
   "metadata": {},
   "outputs": [],
   "source": [
    "X = solar_df.drop(columns = 'generated_power_kw')\n",
    "y = solar_df['generated_power_kw']\n",
    "\n",
    "X_train, X_test, y_train, y_test = train_test_split(X, y, test_size = 0.3, random_state = 42)"
   ]
  },
  {
   "cell_type": "code",
   "execution_count": 29,
   "id": "f5439dc9",
   "metadata": {},
   "outputs": [],
   "source": [
    "# define a function for running regression grid and appending to results df\n",
    "def RunRegressionGrid(pipe_, params_, modelLabel_, results_df_):\n",
    "    \n",
    "    grid = GridSearchCV(pipe_, param_grid = params_, scoring = 'neg_mean_squared_error')\n",
    "    \n",
    "    grid.fit(X_train, y_train)\n",
    "    \n",
    "    best_model = grid.best_estimator_\n",
    "    \n",
    "    train_mse = mean_squared_error(y_train, best_model.predict(X_train))\n",
    "    test_mse = mean_squared_error(y_test, best_model.predict(X_test))\n",
    "    \n",
    "    print(grid.best_params_)\n",
    "    \n",
    "    print(f'Train score: {train_mse}')\n",
    "    print(f'Test score: {test_mse}')\n",
    "    \n",
    "    results_df_.loc[len(results_df_)] = {'Model' : modelLabel_, 'Train MSE' : train_mse, 'Test MSE' : test_mse, \n",
    "                                       'Best Params' : grid.best_params_}"
   ]
  },
  {
   "cell_type": "code",
   "execution_count": 30,
   "id": "c24b2e08",
   "metadata": {},
   "outputs": [],
   "source": [
    "results_columns = ['Model', 'Train MSE', 'Test MSE', 'Best Params']\n",
    "\n",
    "results_df = pd.DataFrame(columns = results_columns)"
   ]
  },
  {
   "cell_type": "code",
   "execution_count": 31,
   "id": "d3dcf494",
   "metadata": {},
   "outputs": [],
   "source": [
    "lr_pipe = Pipeline([('poly', PolynomialFeatures()), \n",
    "                        ('scaler', StandardScaler()), \n",
    "                        ('lr', LinearRegression())])\n",
    "\n",
    "grid_params = {'poly__degree': range(1, 4)}"
   ]
  },
  {
   "cell_type": "code",
   "execution_count": 32,
   "id": "b1ac5b6b",
   "metadata": {},
   "outputs": [
    {
     "name": "stdout",
     "output_type": "stream",
     "text": [
      "{'poly__degree': 1}\n",
      "Train score: 254053.90655879152\n",
      "Test score: 269926.5103518734\n"
     ]
    }
   ],
   "source": [
    "RunRegressionGrid(lr_pipe, grid_params, 'Linear Regression', results_df)"
   ]
  },
  {
   "cell_type": "markdown",
   "id": "9c22b844",
   "metadata": {},
   "source": [
    "## Ridge Regression"
   ]
  },
  {
   "cell_type": "code",
   "execution_count": 33,
   "id": "3738cb0a",
   "metadata": {},
   "outputs": [],
   "source": [
    "ridge_pipe = Pipeline([('poly', PolynomialFeatures()), \n",
    "                        ('scaler', StandardScaler()), \n",
    "                        ('ridge', Ridge())])\n",
    "\n",
    "grid_params = {'poly__degree': range(1, 4),\n",
    "              'ridge__alpha' : np.logspace(-5, 5, 11)}"
   ]
  },
  {
   "cell_type": "code",
   "execution_count": 34,
   "id": "9c219048",
   "metadata": {
    "scrolled": true
   },
   "outputs": [
    {
     "name": "stdout",
     "output_type": "stream",
     "text": [
      "{'poly__degree': 3, 'ridge__alpha': 1000.0}\n",
      "Train score: 204490.610876858\n",
      "Test score: 454566.78656544426\n"
     ]
    }
   ],
   "source": [
    "RunRegressionGrid(ridge_pipe, grid_params, 'Ridge Regression', results_df)"
   ]
  },
  {
   "cell_type": "markdown",
   "id": "2e979012",
   "metadata": {},
   "source": [
    "## Lasso Regression"
   ]
  },
  {
   "cell_type": "code",
   "execution_count": 35,
   "id": "4aacc38b",
   "metadata": {},
   "outputs": [],
   "source": [
    "lasso_pipe = Pipeline([('poly', PolynomialFeatures()), \n",
    "                       ('scaler', StandardScaler()), \n",
    "                       ('lasso', Lasso())])\n",
    "\n",
    "grid_params = {'poly__degree': range(1, 4),\n",
    "              'lasso__alpha' : np.logspace(-5, 5, 11)}"
   ]
  },
  {
   "cell_type": "code",
   "execution_count": 36,
   "id": "39ba7b85",
   "metadata": {},
   "outputs": [
    {
     "name": "stdout",
     "output_type": "stream",
     "text": [
      "{'lasso__alpha': 10.0, 'poly__degree': 3}\n",
      "Train score: 218645.90495787017\n",
      "Test score: 254651.87198827224\n"
     ]
    }
   ],
   "source": [
    "RunRegressionGrid(lasso_pipe, grid_params, 'Lasso Regression', results_df)"
   ]
  },
  {
   "cell_type": "markdown",
   "id": "573ad2cd",
   "metadata": {},
   "source": [
    "## Linear Regression w/ FFS"
   ]
  },
  {
   "cell_type": "code",
   "execution_count": 37,
   "id": "dfb022a8",
   "metadata": {},
   "outputs": [],
   "source": [
    "ffs_pipe = Pipeline([('poly', PolynomialFeatures()), \n",
    "                     ('scaler', StandardScaler()),\n",
    "                     ('sfs', SequentialFeatureSelector(LinearRegression(), scoring = 'neg_mean_squared_error')),\n",
    "                     ('lr', LinearRegression())])\n",
    "\n",
    "grid_params = {'poly__degree': range(1, 4),\n",
    "              'sfs__n_features_to_select': range(2, X.shape[1], 2)}"
   ]
  },
  {
   "cell_type": "code",
   "execution_count": 38,
   "id": "243b7954",
   "metadata": {},
   "outputs": [
    {
     "name": "stdout",
     "output_type": "stream",
     "text": [
      "{'poly__degree': 3, 'sfs__n_features_to_select': 18}\n",
      "Train score: 207985.29062868247\n",
      "Test score: 234314.75724009232\n"
     ]
    }
   ],
   "source": [
    "RunRegressionGrid(ffs_pipe, grid_params, 'Linear Regression w/ FFS', results_df)"
   ]
  },
  {
   "cell_type": "markdown",
   "id": "c81282bc",
   "metadata": {},
   "source": [
    "## Linear Regression w/ Lasso feature selection"
   ]
  },
  {
   "cell_type": "code",
   "execution_count": 41,
   "id": "91a58efd",
   "metadata": {},
   "outputs": [],
   "source": [
    "lr_lasso_pipe = Pipeline([('poly', PolynomialFeatures()),\n",
    "                          ('scaler', StandardScaler()),\n",
    "                          ('selector', SelectFromModel(Lasso())),\n",
    "                          ('lr', LinearRegression())])\n",
    "\n",
    "grid_params = {'poly__degree': range(1, 4)}"
   ]
  },
  {
   "cell_type": "code",
   "execution_count": 42,
   "id": "7cb592e7",
   "metadata": {},
   "outputs": [
    {
     "name": "stdout",
     "output_type": "stream",
     "text": [
      "{'poly__degree': 1}\n",
      "Train score: 254305.4264483617\n",
      "Test score: 269975.1034053896\n"
     ]
    }
   ],
   "source": [
    "RunRegressionGrid(lr_lasso_pipe, grid_params, 'Linear Regression w/ Lasso', results_df)"
   ]
  },
  {
   "cell_type": "markdown",
   "id": "7ec82d38",
   "metadata": {},
   "source": [
    "## SVR ?"
   ]
  },
  {
   "cell_type": "code",
   "execution_count": 43,
   "id": "e4fa4e3e",
   "metadata": {},
   "outputs": [],
   "source": [
    "svr_pipe = Pipeline([('scaler', StandardScaler()), ('svr', SVR())])\n",
    "\n",
    "grid_params = {'svr__kernel': ['rbf', 'poly', 'linear', 'sigmoid'],\n",
    "         'svr__gamma': [0.1, 1.0, 10.0, 100.0]}"
   ]
  },
  {
   "cell_type": "code",
   "execution_count": 44,
   "id": "82194856",
   "metadata": {},
   "outputs": [],
   "source": [
    "# TODO : this is taking too long. revisit later\n",
    "\n",
    "#RunRegressionGrid(svr_pipe, grid_params, 'SVR', results_df)"
   ]
  },
  {
   "cell_type": "code",
   "execution_count": 53,
   "id": "b3babe29",
   "metadata": {
    "scrolled": true
   },
   "outputs": [
    {
     "data": {
      "text/html": [
       "<div>\n",
       "<style scoped>\n",
       "    .dataframe tbody tr th:only-of-type {\n",
       "        vertical-align: middle;\n",
       "    }\n",
       "\n",
       "    .dataframe tbody tr th {\n",
       "        vertical-align: top;\n",
       "    }\n",
       "\n",
       "    .dataframe thead th {\n",
       "        text-align: right;\n",
       "    }\n",
       "</style>\n",
       "<table border=\"1\" class=\"dataframe\">\n",
       "  <thead>\n",
       "    <tr style=\"text-align: right;\">\n",
       "      <th></th>\n",
       "      <th>Model</th>\n",
       "      <th>Train MSE</th>\n",
       "      <th>Test MSE</th>\n",
       "      <th>Best Params</th>\n",
       "    </tr>\n",
       "  </thead>\n",
       "  <tbody>\n",
       "    <tr>\n",
       "      <th>0</th>\n",
       "      <td>Linear Regression</td>\n",
       "      <td>254053.91</td>\n",
       "      <td>269926.51</td>\n",
       "      <td>{'poly__degree': 1}</td>\n",
       "    </tr>\n",
       "    <tr>\n",
       "      <th>1</th>\n",
       "      <td>Ridge Regression</td>\n",
       "      <td>204490.61</td>\n",
       "      <td>454566.79</td>\n",
       "      <td>{'poly__degree': 3, 'ridge__alpha': 1000.0}</td>\n",
       "    </tr>\n",
       "    <tr>\n",
       "      <th>2</th>\n",
       "      <td>Lasso Regression</td>\n",
       "      <td>218645.90</td>\n",
       "      <td>254651.87</td>\n",
       "      <td>{'lasso__alpha': 10.0, 'poly__degree': 3}</td>\n",
       "    </tr>\n",
       "    <tr>\n",
       "      <th>3</th>\n",
       "      <td>Linear Regression w/ FFS</td>\n",
       "      <td>207985.29</td>\n",
       "      <td>234314.76</td>\n",
       "      <td>{'poly__degree': 3, 'sfs__n_features_to_select': 18}</td>\n",
       "    </tr>\n",
       "    <tr>\n",
       "      <th>4</th>\n",
       "      <td>Linear Regression w/ Lasso</td>\n",
       "      <td>254305.43</td>\n",
       "      <td>269975.10</td>\n",
       "      <td>{'poly__degree': 1}</td>\n",
       "    </tr>\n",
       "  </tbody>\n",
       "</table>\n",
       "</div>"
      ],
      "text/plain": [
       "                        Model  Train MSE  Test MSE                                           Best Params\n",
       "0           Linear Regression  254053.91 269926.51                                   {'poly__degree': 1}\n",
       "1            Ridge Regression  204490.61 454566.79           {'poly__degree': 3, 'ridge__alpha': 1000.0}\n",
       "2            Lasso Regression  218645.90 254651.87             {'lasso__alpha': 10.0, 'poly__degree': 3}\n",
       "3    Linear Regression w/ FFS  207985.29 234314.76  {'poly__degree': 3, 'sfs__n_features_to_select': 18}\n",
       "4  Linear Regression w/ Lasso  254305.43 269975.10                                   {'poly__degree': 1}"
      ]
     },
     "execution_count": 53,
     "metadata": {},
     "output_type": "execute_result"
    }
   ],
   "source": [
    "pd.set_option('display.max_colwidth', None)\n",
    "results_df"
   ]
  },
  {
   "cell_type": "code",
   "execution_count": 54,
   "id": "92390d95",
   "metadata": {},
   "outputs": [],
   "source": [
    "# TODO : examine feature importances\n",
    "# TODO : create charts"
   ]
  },
  {
   "cell_type": "code",
   "execution_count": null,
   "id": "68f367c5",
   "metadata": {},
   "outputs": [],
   "source": []
  }
 ],
 "metadata": {
  "kernelspec": {
   "display_name": "Python 3 (ipykernel)",
   "language": "python",
   "name": "python3"
  },
  "language_info": {
   "codemirror_mode": {
    "name": "ipython",
    "version": 3
   },
   "file_extension": ".py",
   "mimetype": "text/x-python",
   "name": "python",
   "nbconvert_exporter": "python",
   "pygments_lexer": "ipython3",
   "version": "3.11.5"
  }
 },
 "nbformat": 4,
 "nbformat_minor": 5
}
