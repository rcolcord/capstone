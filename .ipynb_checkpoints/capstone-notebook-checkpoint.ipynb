{
 "cells": [
  {
   "cell_type": "code",
   "execution_count": 1,
   "id": "89b0193f",
   "metadata": {},
   "outputs": [],
   "source": [
    "import pandas as pd\n",
    "import numpy as np\n",
    "import seaborn as sns\n",
    "import matplotlib.pyplot as plt\n",
    "import time\n",
    "\n",
    "from sklearn.linear_model import LinearRegression, Ridge, Lasso\n",
    "from sklearn.metrics import mean_squared_error\n",
    "from sklearn.pipeline import Pipeline\n",
    "from sklearn.model_selection import train_test_split, GridSearchCV\n",
    "from sklearn.preprocessing import PolynomialFeatures, StandardScaler\n",
    "from sklearn.feature_selection import SequentialFeatureSelector, SelectFromModel\n",
    "from sklearn.svm import SVR\n",
    "\n",
    "pd.options.display.float_format = '{:.2f}'.format\n",
    "\n",
    "import warnings\n",
    "warnings.filterwarnings('ignore')"
   ]
  },
  {
   "cell_type": "code",
   "execution_count": 2,
   "id": "814326c2",
   "metadata": {},
   "outputs": [],
   "source": [
    "# source: https://www.kaggle.com/datasets/stucom/solar-energy-power-generation-dataset/data\n",
    "solar_df = pd.read_csv('spg.csv')"
   ]
  },
  {
   "cell_type": "code",
   "execution_count": 3,
   "id": "adaa1193",
   "metadata": {},
   "outputs": [
    {
     "name": "stdout",
     "output_type": "stream",
     "text": [
      "<class 'pandas.core.frame.DataFrame'>\n",
      "RangeIndex: 4213 entries, 0 to 4212\n",
      "Data columns (total 21 columns):\n",
      " #   Column                             Non-Null Count  Dtype  \n",
      "---  ------                             --------------  -----  \n",
      " 0   temperature_2_m_above_gnd          4213 non-null   float64\n",
      " 1   relative_humidity_2_m_above_gnd    4213 non-null   int64  \n",
      " 2   mean_sea_level_pressure_MSL        4213 non-null   float64\n",
      " 3   total_precipitation_sfc            4213 non-null   float64\n",
      " 4   snowfall_amount_sfc                4213 non-null   float64\n",
      " 5   total_cloud_cover_sfc              4213 non-null   float64\n",
      " 6   high_cloud_cover_high_cld_lay      4213 non-null   int64  \n",
      " 7   medium_cloud_cover_mid_cld_lay     4213 non-null   int64  \n",
      " 8   low_cloud_cover_low_cld_lay        4213 non-null   int64  \n",
      " 9   shortwave_radiation_backwards_sfc  4213 non-null   float64\n",
      " 10  wind_speed_10_m_above_gnd          4213 non-null   float64\n",
      " 11  wind_direction_10_m_above_gnd      4213 non-null   float64\n",
      " 12  wind_speed_80_m_above_gnd          4213 non-null   float64\n",
      " 13  wind_direction_80_m_above_gnd      4213 non-null   float64\n",
      " 14  wind_speed_900_mb                  4213 non-null   float64\n",
      " 15  wind_direction_900_mb              4213 non-null   float64\n",
      " 16  wind_gust_10_m_above_gnd           4213 non-null   float64\n",
      " 17  angle_of_incidence                 4213 non-null   float64\n",
      " 18  zenith                             4213 non-null   float64\n",
      " 19  azimuth                            4213 non-null   float64\n",
      " 20  generated_power_kw                 4213 non-null   float64\n",
      "dtypes: float64(17), int64(4)\n",
      "memory usage: 691.3 KB\n"
     ]
    }
   ],
   "source": [
    "solar_df.info()"
   ]
  },
  {
   "cell_type": "code",
   "execution_count": 4,
   "id": "95ad55da",
   "metadata": {},
   "outputs": [
    {
     "data": {
      "text/plain": [
       "temperature_2_m_above_gnd            0\n",
       "relative_humidity_2_m_above_gnd      0\n",
       "mean_sea_level_pressure_MSL          0\n",
       "total_precipitation_sfc              0\n",
       "snowfall_amount_sfc                  0\n",
       "total_cloud_cover_sfc                0\n",
       "high_cloud_cover_high_cld_lay        0\n",
       "medium_cloud_cover_mid_cld_lay       0\n",
       "low_cloud_cover_low_cld_lay          0\n",
       "shortwave_radiation_backwards_sfc    0\n",
       "wind_speed_10_m_above_gnd            0\n",
       "wind_direction_10_m_above_gnd        0\n",
       "wind_speed_80_m_above_gnd            0\n",
       "wind_direction_80_m_above_gnd        0\n",
       "wind_speed_900_mb                    0\n",
       "wind_direction_900_mb                0\n",
       "wind_gust_10_m_above_gnd             0\n",
       "angle_of_incidence                   0\n",
       "zenith                               0\n",
       "azimuth                              0\n",
       "generated_power_kw                   0\n",
       "dtype: int64"
      ]
     },
     "execution_count": 4,
     "metadata": {},
     "output_type": "execute_result"
    }
   ],
   "source": [
    "solar_df.isna().sum()"
   ]
  },
  {
   "cell_type": "markdown",
   "id": "d7b8ee12",
   "metadata": {},
   "source": [
    "## Observations\n",
    "- This is an extremely straightforward, numeric-only dataset with no missing values\n",
    "- generated_power_kw is the y value, everything else is an input\n",
    "- The only preprocessing we will need is standard scaling"
   ]
  },
  {
   "cell_type": "markdown",
   "id": "4a15a560",
   "metadata": {},
   "source": [
    "# Modeling"
   ]
  },
  {
   "cell_type": "code",
   "execution_count": 73,
   "id": "930506d7",
   "metadata": {
    "scrolled": true
   },
   "outputs": [],
   "source": [
    "X = solar_df.drop(columns = 'generated_power_kw')\n",
    "y = solar_df['generated_power_kw']\n",
    "\n",
    "X_train, X_test, y_train, y_test = train_test_split(X, y, test_size = 0.2, random_state = 42)"
   ]
  },
  {
   "cell_type": "code",
   "execution_count": 74,
   "id": "bc1d9e83",
   "metadata": {},
   "outputs": [
    {
     "name": "stdout",
     "output_type": "stream",
     "text": [
      "Baseline MSE: 913608.0193280509\n"
     ]
    }
   ],
   "source": [
    "# dummy prediction using simple average\n",
    "\n",
    "dummy_predict = np.empty(len(y_test))\n",
    "dummy_predict.fill(np.mean(y_train))\n",
    "dummy_mse = mean_squared_error(y_test, dummy_predict)\n",
    "print(f'Baseline MSE: {dummy_mse}')"
   ]
  },
  {
   "cell_type": "markdown",
   "id": "9b136c29",
   "metadata": {},
   "source": [
    "## Linear Regression"
   ]
  },
  {
   "cell_type": "code",
   "execution_count": 75,
   "id": "f5439dc9",
   "metadata": {},
   "outputs": [],
   "source": [
    "# define a function for running regression grid and appending to results df\n",
    "def RunRegressionGrid(pipe_, params_, modelLabel_, results_df_):\n",
    "    \n",
    "    grid = GridSearchCV(pipe_, param_grid = params_, scoring = 'neg_mean_squared_error')\n",
    "    \n",
    "    grid.fit(X_train, y_train)\n",
    "    \n",
    "    best_model = grid.best_estimator_\n",
    "    \n",
    "    train_mse = mean_squared_error(y_train, best_model.predict(X_train))\n",
    "    test_mse = mean_squared_error(y_test, best_model.predict(X_test))\n",
    "    \n",
    "    print(grid.best_params_)\n",
    "    \n",
    "    print(f'Train score: {train_mse}')\n",
    "    print(f'Test score: {test_mse}')\n",
    "    \n",
    "    # measure best model train time\n",
    "    \n",
    "    start = time.time()\n",
    "    \n",
    "    best_model.fit(X_train, y_train)\n",
    "    \n",
    "    end = time.time()\n",
    "    \n",
    "    train_time = end - start\n",
    "    \n",
    "    print(f'Train time: {train_time}')\n",
    "    \n",
    "    results_df_.loc[len(results_df_)] = {'Model' : modelLabel_, 'Train MSE' : train_mse, 'Test MSE' : test_mse, \n",
    "                                       'Best Params' : grid.best_params_, 'Train Time' : train_time}\n",
    "    \n",
    "    return best_model"
   ]
  },
  {
   "cell_type": "code",
   "execution_count": 76,
   "id": "c24b2e08",
   "metadata": {},
   "outputs": [],
   "source": [
    "results_columns = ['Model', 'Train MSE', 'Test MSE', 'Best Params', 'Train Time']\n",
    "\n",
    "results_df = pd.DataFrame(columns = results_columns)"
   ]
  },
  {
   "cell_type": "code",
   "execution_count": 77,
   "id": "d3dcf494",
   "metadata": {},
   "outputs": [],
   "source": [
    "lr_pipe = Pipeline([('poly', PolynomialFeatures()), \n",
    "                        ('scaler', StandardScaler()), \n",
    "                        ('lr', LinearRegression())])\n",
    "\n",
    "grid_params = {'poly__degree': range(1, 4)}"
   ]
  },
  {
   "cell_type": "code",
   "execution_count": 78,
   "id": "b1ac5b6b",
   "metadata": {
    "scrolled": true
   },
   "outputs": [
    {
     "name": "stdout",
     "output_type": "stream",
     "text": [
      "{'poly__degree': 1}\n",
      "Train score: 258712.5536544374\n",
      "Test score: 257589.05769408215\n",
      "Train time: 0.008073091506958008\n"
     ]
    }
   ],
   "source": [
    "lr_best_model = RunRegressionGrid(lr_pipe, grid_params, 'Linear Regression', results_df)"
   ]
  },
  {
   "cell_type": "code",
   "execution_count": 79,
   "id": "83841ae2",
   "metadata": {},
   "outputs": [],
   "source": [
    "lr_feat_df = pd.DataFrame({'feature' : lr_best_model.named_steps['poly'].get_feature_names_out(), \n",
    "                            'coef' : lr_best_model.named_steps['lr'].coef_})\n",
    "lr_feat_df['abs coef'] = np.abs(lr_feat_df['coef'])"
   ]
  },
  {
   "cell_type": "markdown",
   "id": "9c22b844",
   "metadata": {},
   "source": [
    "## Ridge Regression"
   ]
  },
  {
   "cell_type": "code",
   "execution_count": 80,
   "id": "3738cb0a",
   "metadata": {},
   "outputs": [],
   "source": [
    "ridge_pipe = Pipeline([('poly', PolynomialFeatures()), \n",
    "                        ('scaler', StandardScaler()), \n",
    "                        ('ridge', Ridge())])\n",
    "\n",
    "grid_params = {'poly__degree': range(1, 4),\n",
    "              'ridge__alpha' : np.logspace(-5, 5, 11)}"
   ]
  },
  {
   "cell_type": "code",
   "execution_count": 81,
   "id": "9c219048",
   "metadata": {
    "scrolled": true
   },
   "outputs": [
    {
     "name": "stdout",
     "output_type": "stream",
     "text": [
      "{'poly__degree': 2, 'ridge__alpha': 1000.0}\n",
      "Train score: 240951.17979425564\n",
      "Test score: 252855.8535424785\n",
      "Train time: 0.02013421058654785\n"
     ]
    }
   ],
   "source": [
    "ridge_best_model = RunRegressionGrid(ridge_pipe, grid_params, 'Ridge Regression', results_df)"
   ]
  },
  {
   "cell_type": "code",
   "execution_count": 82,
   "id": "fee5a61c",
   "metadata": {},
   "outputs": [],
   "source": [
    "ridge_feat_df = pd.DataFrame({'feature' : ridge_best_model.named_steps['poly'].get_feature_names_out(), \n",
    "                            'coef' : ridge_best_model.named_steps['ridge'].coef_})\n",
    "ridge_feat_df['abs coef'] = np.abs(ridge_feat_df['coef'])"
   ]
  },
  {
   "cell_type": "markdown",
   "id": "2e979012",
   "metadata": {},
   "source": [
    "## Lasso Regression"
   ]
  },
  {
   "cell_type": "code",
   "execution_count": 83,
   "id": "4aacc38b",
   "metadata": {},
   "outputs": [],
   "source": [
    "lasso_pipe = Pipeline([('poly', PolynomialFeatures()), \n",
    "                       ('scaler', StandardScaler()), \n",
    "                       ('lasso', Lasso())])\n",
    "\n",
    "grid_params = {'poly__degree': range(1, 4),\n",
    "              'lasso__alpha' : np.logspace(-5, 5, 11)}"
   ]
  },
  {
   "cell_type": "code",
   "execution_count": 84,
   "id": "39ba7b85",
   "metadata": {},
   "outputs": [
    {
     "name": "stdout",
     "output_type": "stream",
     "text": [
      "{'lasso__alpha': 10.0, 'poly__degree': 3}\n",
      "Train score: 223845.80383767778\n",
      "Test score: 259849.3660306236\n",
      "Train time: 3.4449872970581055\n"
     ]
    }
   ],
   "source": [
    "lasso_best_model = RunRegressionGrid(lasso_pipe, grid_params, 'Lasso Regression', results_df)"
   ]
  },
  {
   "cell_type": "code",
   "execution_count": 85,
   "id": "922f3265",
   "metadata": {},
   "outputs": [],
   "source": [
    "lasso_feat_df = pd.DataFrame({'feature' : lasso_best_model.named_steps['poly'].get_feature_names_out(), \n",
    "                            'coef' : lasso_best_model.named_steps['lasso'].coef_})\n",
    "lasso_feat_df['abs coef'] = np.abs(lasso_feat_df['coef'])"
   ]
  },
  {
   "cell_type": "markdown",
   "id": "573ad2cd",
   "metadata": {},
   "source": [
    "## Linear Regression w/ FFS"
   ]
  },
  {
   "cell_type": "code",
   "execution_count": 86,
   "id": "dfb022a8",
   "metadata": {},
   "outputs": [],
   "source": [
    "ffs_pipe = Pipeline([('poly', PolynomialFeatures()), \n",
    "                     ('scaler', StandardScaler()),\n",
    "                     ('sfs', SequentialFeatureSelector(LinearRegression(), scoring = 'neg_mean_squared_error')),\n",
    "                     ('lr', LinearRegression())])\n",
    "\n",
    "grid_params = {'poly__degree': range(1, 4),\n",
    "              'sfs__n_features_to_select': range(2, X.shape[1], 2)}"
   ]
  },
  {
   "cell_type": "code",
   "execution_count": 87,
   "id": "243b7954",
   "metadata": {},
   "outputs": [
    {
     "name": "stdout",
     "output_type": "stream",
     "text": [
      "{'poly__degree': 3, 'sfs__n_features_to_select': 18}\n",
      "Train score: 213056.29867913228\n",
      "Test score: 266379.389474735\n",
      "Train time: 312.57289814949036\n"
     ]
    }
   ],
   "source": [
    "lr_ffs_best_model = RunRegressionGrid(ffs_pipe, grid_params, 'Linear Regression w/ FFS', results_df)"
   ]
  },
  {
   "cell_type": "code",
   "execution_count": 88,
   "id": "895df00c",
   "metadata": {},
   "outputs": [],
   "source": [
    "lr_ffs_feat_df = pd.DataFrame({'feature' : lr_ffs_best_model.named_steps['poly'].get_feature_names_out(), \n",
    "                            'used' : lr_ffs_best_model.named_steps['sfs'].get_support()})\n",
    "lr_ffs_feat_df = lr_ffs_feat_df[lr_ffs_feat_df['used'] == True][['feature']]\n",
    "\n",
    "lr_ffs_feat_df['coef'] = lr_ffs_best_model.named_steps['lr'].coef_\n",
    "lr_ffs_feat_df['abs coef'] = np.abs(lr_ffs_feat_df['coef'])"
   ]
  },
  {
   "cell_type": "markdown",
   "id": "c81282bc",
   "metadata": {},
   "source": [
    "## Linear Regression w/ Lasso feature selection"
   ]
  },
  {
   "cell_type": "code",
   "execution_count": 89,
   "id": "91a58efd",
   "metadata": {},
   "outputs": [],
   "source": [
    "lr_lasso_pipe = Pipeline([('poly', PolynomialFeatures()),\n",
    "                          ('scaler', StandardScaler()),\n",
    "                          ('selector', SelectFromModel(Lasso())),\n",
    "                          ('lr', LinearRegression())])\n",
    "\n",
    "grid_params = {'poly__degree': range(1, 4)}"
   ]
  },
  {
   "cell_type": "code",
   "execution_count": 90,
   "id": "7cb592e7",
   "metadata": {
    "scrolled": true
   },
   "outputs": [
    {
     "name": "stdout",
     "output_type": "stream",
     "text": [
      "{'poly__degree': 1}\n",
      "Train score: 258965.55941947995\n",
      "Test score: 257492.33032283807\n",
      "Train time: 0.011568069458007812\n"
     ]
    }
   ],
   "source": [
    "lr_lasso_best_model = RunRegressionGrid(lr_lasso_pipe, grid_params, 'Linear Regression w/ Lasso', results_df)"
   ]
  },
  {
   "cell_type": "code",
   "execution_count": 91,
   "id": "3ccb9264",
   "metadata": {},
   "outputs": [],
   "source": [
    "lr_lasso_feat_df = pd.DataFrame({'feature' : lr_lasso_best_model.named_steps['poly'].get_feature_names_out(),\n",
    "                                'used' : lr_lasso_best_model.named_steps['selector'].get_support()})\n",
    "lr_lasso_feat_df = lr_lasso_feat_df[lr_lasso_feat_df['used'] == True][['feature']]\n",
    "\n",
    "lr_lasso_feat_df['coef'] = lr_lasso_best_model.named_steps['lr'].coef_\n",
    "lr_lasso_feat_df['abs coef'] = np.abs(lr_lasso_feat_df['coef'])"
   ]
  },
  {
   "cell_type": "markdown",
   "id": "7ec82d38",
   "metadata": {},
   "source": [
    "## SVR"
   ]
  },
  {
   "cell_type": "code",
   "execution_count": 92,
   "id": "e4fa4e3e",
   "metadata": {},
   "outputs": [],
   "source": [
    "svr_pipe = Pipeline([('scaler', StandardScaler()), ('svr', SVR())])\n",
    "\n",
    "grid_params = {'svr__kernel': ['rbf', 'poly', 'linear', 'sigmoid'],\n",
    "         'svr__gamma': ['scale', 'auto']}\n"
   ]
  },
  {
   "cell_type": "code",
   "execution_count": 93,
   "id": "82194856",
   "metadata": {
    "scrolled": true
   },
   "outputs": [
    {
     "name": "stdout",
     "output_type": "stream",
     "text": [
      "{'svr__gamma': 'scale', 'svr__kernel': 'linear'}\n",
      "Train score: 269841.31716946437\n",
      "Test score: 260279.27357848728\n",
      "Train time: 0.47711706161499023\n"
     ]
    }
   ],
   "source": [
    "svr_best_model = RunRegressionGrid(svr_pipe, grid_params, 'SVR', results_df)"
   ]
  },
  {
   "cell_type": "code",
   "execution_count": 106,
   "id": "b8bed98d",
   "metadata": {},
   "outputs": [],
   "source": [
    "# since the model chose linear, we can view coefficients easily\n",
    "\n",
    "svr_feat_df = pd.DataFrame({'feature' : X.columns, \n",
    "                            'coef' : svr_best_model.named_steps['svr'].coef_[0]})\n",
    "svr_feat_df['abs coef'] = np.abs(svr_feat_df['coef'])"
   ]
  },
  {
   "cell_type": "markdown",
   "id": "d591fbed",
   "metadata": {},
   "source": [
    "# Results"
   ]
  },
  {
   "cell_type": "code",
   "execution_count": 95,
   "id": "b3babe29",
   "metadata": {
    "scrolled": true
   },
   "outputs": [
    {
     "data": {
      "text/html": [
       "<div>\n",
       "<style scoped>\n",
       "    .dataframe tbody tr th:only-of-type {\n",
       "        vertical-align: middle;\n",
       "    }\n",
       "\n",
       "    .dataframe tbody tr th {\n",
       "        vertical-align: top;\n",
       "    }\n",
       "\n",
       "    .dataframe thead th {\n",
       "        text-align: right;\n",
       "    }\n",
       "</style>\n",
       "<table border=\"1\" class=\"dataframe\">\n",
       "  <thead>\n",
       "    <tr style=\"text-align: right;\">\n",
       "      <th></th>\n",
       "      <th>Model</th>\n",
       "      <th>Train MSE</th>\n",
       "      <th>Test MSE</th>\n",
       "      <th>Best Params</th>\n",
       "      <th>Train Time</th>\n",
       "    </tr>\n",
       "  </thead>\n",
       "  <tbody>\n",
       "    <tr>\n",
       "      <th>0</th>\n",
       "      <td>Linear Regression</td>\n",
       "      <td>258712.55</td>\n",
       "      <td>257589.06</td>\n",
       "      <td>{'poly__degree': 1}</td>\n",
       "      <td>0.01</td>\n",
       "    </tr>\n",
       "    <tr>\n",
       "      <th>1</th>\n",
       "      <td>Ridge Regression</td>\n",
       "      <td>240951.18</td>\n",
       "      <td>252855.85</td>\n",
       "      <td>{'poly__degree': 2, 'ridge__alpha': 1000.0}</td>\n",
       "      <td>0.02</td>\n",
       "    </tr>\n",
       "    <tr>\n",
       "      <th>2</th>\n",
       "      <td>Lasso Regression</td>\n",
       "      <td>223845.80</td>\n",
       "      <td>259849.37</td>\n",
       "      <td>{'lasso__alpha': 10.0, 'poly__degree': 3}</td>\n",
       "      <td>3.44</td>\n",
       "    </tr>\n",
       "    <tr>\n",
       "      <th>3</th>\n",
       "      <td>Linear Regression w/ FFS</td>\n",
       "      <td>213056.30</td>\n",
       "      <td>266379.39</td>\n",
       "      <td>{'poly__degree': 3, 'sfs__n_features_to_select': 18}</td>\n",
       "      <td>312.57</td>\n",
       "    </tr>\n",
       "    <tr>\n",
       "      <th>4</th>\n",
       "      <td>Linear Regression w/ Lasso</td>\n",
       "      <td>258965.56</td>\n",
       "      <td>257492.33</td>\n",
       "      <td>{'poly__degree': 1}</td>\n",
       "      <td>0.01</td>\n",
       "    </tr>\n",
       "    <tr>\n",
       "      <th>5</th>\n",
       "      <td>SVR</td>\n",
       "      <td>269841.32</td>\n",
       "      <td>260279.27</td>\n",
       "      <td>{'svr__gamma': 'scale', 'svr__kernel': 'linear'}</td>\n",
       "      <td>0.48</td>\n",
       "    </tr>\n",
       "  </tbody>\n",
       "</table>\n",
       "</div>"
      ],
      "text/plain": [
       "                        Model  Train MSE  Test MSE  \\\n",
       "0           Linear Regression  258712.55 257589.06   \n",
       "1            Ridge Regression  240951.18 252855.85   \n",
       "2            Lasso Regression  223845.80 259849.37   \n",
       "3    Linear Regression w/ FFS  213056.30 266379.39   \n",
       "4  Linear Regression w/ Lasso  258965.56 257492.33   \n",
       "5                         SVR  269841.32 260279.27   \n",
       "\n",
       "                                            Best Params  Train Time  \n",
       "0                                   {'poly__degree': 1}        0.01  \n",
       "1           {'poly__degree': 2, 'ridge__alpha': 1000.0}        0.02  \n",
       "2             {'lasso__alpha': 10.0, 'poly__degree': 3}        3.44  \n",
       "3  {'poly__degree': 3, 'sfs__n_features_to_select': 18}      312.57  \n",
       "4                                   {'poly__degree': 1}        0.01  \n",
       "5      {'svr__gamma': 'scale', 'svr__kernel': 'linear'}        0.48  "
      ]
     },
     "execution_count": 95,
     "metadata": {},
     "output_type": "execute_result"
    }
   ],
   "source": [
    "pd.set_option('display.max_colwidth', None)\n",
    "results_df"
   ]
  },
  {
   "cell_type": "code",
   "execution_count": 107,
   "id": "14cd150d",
   "metadata": {},
   "outputs": [
    {
     "data": {
      "image/png": "[encoded data removed]",
      "text/plain": [
       "<Figure size 1100x500 with 1 Axes>"
      ]
     },
     "metadata": {},
     "output_type": "display_data"
    }
   ],
   "source": [
    "# test mse\n",
    "\n",
    "plt.figure(figsize = [11, 5])\n",
    "sns.barplot(results_df, y = 'Model', x = 'Test MSE', orient = 'h')\n",
    "plt.title('Regression Model Test Scores')\n",
    "plt.savefig('images/test_mse.png')"
   ]
  },
  {
   "cell_type": "code",
   "execution_count": 108,
   "id": "0e69319c",
   "metadata": {},
   "outputs": [
    {
     "data": {
      "image/png": "[encoded data removed]",
      "text/plain": [
       "<Figure size 1100x500 with 1 Axes>"
      ]
     },
     "metadata": {},
     "output_type": "display_data"
    }
   ],
   "source": [
    "# train time\n",
    "\n",
    "plt.figure(figsize = [11, 5])\n",
    "fig = sns.barplot(results_df, y = 'Model', x = 'Train Time', orient = 'h')\n",
    "fig.set_xscale('log')\n",
    "plt.title('Regression Model Training Times')\n",
    "plt.savefig('images/train_time.png')"
   ]
  },
  {
   "cell_type": "code",
   "execution_count": 109,
   "id": "100aa369",
   "metadata": {},
   "outputs": [
    {
     "data": {
      "image/png": "[encoded data removed]",
      "text/plain": [
       "<Figure size 1100x500 with 1 Axes>"
      ]
     },
     "metadata": {},
     "output_type": "display_data"
    }
   ],
   "source": [
    "# visualize overfitting\n",
    "results_df['Test - Train MSE Difference'] = results_df['Test MSE'] - results_df['Train MSE']\n",
    "\n",
    "plt.figure(figsize = [11, 5])\n",
    "fig = sns.barplot(results_df, y = 'Model', x = 'Test - Train MSE Difference', orient = 'h')\n",
    "plt.title('Regression Model Test/Train Score Differences')\n",
    "plt.savefig('images/overfit.png')"
   ]
  },
  {
   "cell_type": "markdown",
   "id": "9eac4012",
   "metadata": {},
   "source": [
    "## Observations:\n",
    "- All of the models performed about as well\n",
    "    - Ridge Regression has a slight edge as the best performing model on test MSE\n",
    "- Many of the models appear to show overfitting\n",
    "    - The most egregious is Linear Regression w/ FFS, followed by Lasso, and Ridge Regression\n",
    "    - Linear Regression, Linear Regression w/ Lasso, and SVR do not appear to show overfitting. Linear Regression and Linear Regression w/ Lasso have minimal differences between train and test MSE\n",
    "- Linear Regression and Linear Regression w/ Lasso have the lowest training times. Every other model has a training time that is about an order of magnitude longer, if not more\n",
    "- Linear Regression and Linear Regression w/ Lasso also selected models with the polynomial degree = 1, likely contributing to the low training time, and making these the most interpretable models\n",
    "- It would appear that Linear Regression and Linear Regression w/ Lasso are the most optimal models, given that all the models perform about the same, but they show the least overfitting and lowest training times\n"
   ]
  },
  {
   "cell_type": "code",
   "execution_count": 70,
   "id": "f36400de",
   "metadata": {},
   "outputs": [],
   "source": [
    "# Examine feature coeficients for our best models: Linear Regression and Linear Regression w/ Lasso\n",
    "# Also include Ridge Regression, as it performed the best"
   ]
  },
  {
   "cell_type": "code",
   "execution_count": 59,
   "id": "320b8d5d",
   "metadata": {},
   "outputs": [
    {
     "data": {
      "text/html": [
       "<div>\n",
       "<style scoped>\n",
       "    .dataframe tbody tr th:only-of-type {\n",
       "        vertical-align: middle;\n",
       "    }\n",
       "\n",
       "    .dataframe tbody tr th {\n",
       "        vertical-align: top;\n",
       "    }\n",
       "\n",
       "    .dataframe thead th {\n",
       "        text-align: right;\n",
       "    }\n",
       "</style>\n",
       "<table border=\"1\" class=\"dataframe\">\n",
       "  <thead>\n",
       "    <tr style=\"text-align: right;\">\n",
       "      <th></th>\n",
       "      <th>feature</th>\n",
       "      <th>coef</th>\n",
       "      <th>abs coef</th>\n",
       "    </tr>\n",
       "  </thead>\n",
       "  <tbody>\n",
       "    <tr>\n",
       "      <th>18</th>\n",
       "      <td>angle_of_incidence</td>\n",
       "      <td>-400.99</td>\n",
       "      <td>400.99</td>\n",
       "    </tr>\n",
       "    <tr>\n",
       "      <th>20</th>\n",
       "      <td>azimuth</td>\n",
       "      <td>-399.39</td>\n",
       "      <td>399.39</td>\n",
       "    </tr>\n",
       "    <tr>\n",
       "      <th>10</th>\n",
       "      <td>shortwave_radiation_backwards_sfc</td>\n",
       "      <td>344.56</td>\n",
       "      <td>344.56</td>\n",
       "    </tr>\n",
       "    <tr>\n",
       "      <th>15</th>\n",
       "      <td>wind_speed_900_mb</td>\n",
       "      <td>-296.70</td>\n",
       "      <td>296.70</td>\n",
       "    </tr>\n",
       "    <tr>\n",
       "      <th>11</th>\n",
       "      <td>wind_speed_10_m_above_gnd</td>\n",
       "      <td>161.87</td>\n",
       "      <td>161.87</td>\n",
       "    </tr>\n",
       "    <tr>\n",
       "      <th>19</th>\n",
       "      <td>zenith</td>\n",
       "      <td>-153.43</td>\n",
       "      <td>153.43</td>\n",
       "    </tr>\n",
       "    <tr>\n",
       "      <th>3</th>\n",
       "      <td>mean_sea_level_pressure_MSL</td>\n",
       "      <td>111.85</td>\n",
       "      <td>111.85</td>\n",
       "    </tr>\n",
       "    <tr>\n",
       "      <th>13</th>\n",
       "      <td>wind_speed_80_m_above_gnd</td>\n",
       "      <td>108.60</td>\n",
       "      <td>108.60</td>\n",
       "    </tr>\n",
       "    <tr>\n",
       "      <th>2</th>\n",
       "      <td>relative_humidity_2_m_above_gnd</td>\n",
       "      <td>-99.84</td>\n",
       "      <td>99.84</td>\n",
       "    </tr>\n",
       "    <tr>\n",
       "      <th>1</th>\n",
       "      <td>temperature_2_m_above_gnd</td>\n",
       "      <td>-81.47</td>\n",
       "      <td>81.47</td>\n",
       "    </tr>\n",
       "    <tr>\n",
       "      <th>6</th>\n",
       "      <td>total_cloud_cover_sfc</td>\n",
       "      <td>-62.79</td>\n",
       "      <td>62.79</td>\n",
       "    </tr>\n",
       "    <tr>\n",
       "      <th>9</th>\n",
       "      <td>low_cloud_cover_low_cld_lay</td>\n",
       "      <td>-51.18</td>\n",
       "      <td>51.18</td>\n",
       "    </tr>\n",
       "    <tr>\n",
       "      <th>8</th>\n",
       "      <td>medium_cloud_cover_mid_cld_lay</td>\n",
       "      <td>-42.07</td>\n",
       "      <td>42.07</td>\n",
       "    </tr>\n",
       "    <tr>\n",
       "      <th>7</th>\n",
       "      <td>high_cloud_cover_high_cld_lay</td>\n",
       "      <td>-38.55</td>\n",
       "      <td>38.55</td>\n",
       "    </tr>\n",
       "    <tr>\n",
       "      <th>17</th>\n",
       "      <td>wind_gust_10_m_above_gnd</td>\n",
       "      <td>-38.54</td>\n",
       "      <td>38.54</td>\n",
       "    </tr>\n",
       "    <tr>\n",
       "      <th>12</th>\n",
       "      <td>wind_direction_10_m_above_gnd</td>\n",
       "      <td>31.98</td>\n",
       "      <td>31.98</td>\n",
       "    </tr>\n",
       "    <tr>\n",
       "      <th>16</th>\n",
       "      <td>wind_direction_900_mb</td>\n",
       "      <td>-27.85</td>\n",
       "      <td>27.85</td>\n",
       "    </tr>\n",
       "    <tr>\n",
       "      <th>14</th>\n",
       "      <td>wind_direction_80_m_above_gnd</td>\n",
       "      <td>17.27</td>\n",
       "      <td>17.27</td>\n",
       "    </tr>\n",
       "    <tr>\n",
       "      <th>5</th>\n",
       "      <td>snowfall_amount_sfc</td>\n",
       "      <td>12.58</td>\n",
       "      <td>12.58</td>\n",
       "    </tr>\n",
       "    <tr>\n",
       "      <th>4</th>\n",
       "      <td>total_precipitation_sfc</td>\n",
       "      <td>-0.63</td>\n",
       "      <td>0.63</td>\n",
       "    </tr>\n",
       "    <tr>\n",
       "      <th>0</th>\n",
       "      <td>1</td>\n",
       "      <td>0.00</td>\n",
       "      <td>0.00</td>\n",
       "    </tr>\n",
       "  </tbody>\n",
       "</table>\n",
       "</div>"
      ],
      "text/plain": [
       "                              feature    coef  abs coef\n",
       "18                 angle_of_incidence -400.99    400.99\n",
       "20                            azimuth -399.39    399.39\n",
       "10  shortwave_radiation_backwards_sfc  344.56    344.56\n",
       "15                  wind_speed_900_mb -296.70    296.70\n",
       "11          wind_speed_10_m_above_gnd  161.87    161.87\n",
       "19                             zenith -153.43    153.43\n",
       "3         mean_sea_level_pressure_MSL  111.85    111.85\n",
       "13          wind_speed_80_m_above_gnd  108.60    108.60\n",
       "2     relative_humidity_2_m_above_gnd  -99.84     99.84\n",
       "1           temperature_2_m_above_gnd  -81.47     81.47\n",
       "6               total_cloud_cover_sfc  -62.79     62.79\n",
       "9         low_cloud_cover_low_cld_lay  -51.18     51.18\n",
       "8      medium_cloud_cover_mid_cld_lay  -42.07     42.07\n",
       "7       high_cloud_cover_high_cld_lay  -38.55     38.55\n",
       "17           wind_gust_10_m_above_gnd  -38.54     38.54\n",
       "12      wind_direction_10_m_above_gnd   31.98     31.98\n",
       "16              wind_direction_900_mb  -27.85     27.85\n",
       "14      wind_direction_80_m_above_gnd   17.27     17.27\n",
       "5                 snowfall_amount_sfc   12.58     12.58\n",
       "4             total_precipitation_sfc   -0.63      0.63\n",
       "0                                   1    0.00      0.00"
      ]
     },
     "execution_count": 59,
     "metadata": {},
     "output_type": "execute_result"
    }
   ],
   "source": [
    "lr_feat_df.sort_values(by = 'abs coef', ascending = False)"
   ]
  },
  {
   "cell_type": "code",
   "execution_count": 58,
   "id": "1cc68f07",
   "metadata": {},
   "outputs": [
    {
     "data": {
      "text/html": [
       "<div>\n",
       "<style scoped>\n",
       "    .dataframe tbody tr th:only-of-type {\n",
       "        vertical-align: middle;\n",
       "    }\n",
       "\n",
       "    .dataframe tbody tr th {\n",
       "        vertical-align: top;\n",
       "    }\n",
       "\n",
       "    .dataframe thead th {\n",
       "        text-align: right;\n",
       "    }\n",
       "</style>\n",
       "<table border=\"1\" class=\"dataframe\">\n",
       "  <thead>\n",
       "    <tr style=\"text-align: right;\">\n",
       "      <th></th>\n",
       "      <th>feature</th>\n",
       "      <th>coef</th>\n",
       "      <th>abs coef</th>\n",
       "    </tr>\n",
       "  </thead>\n",
       "  <tbody>\n",
       "    <tr>\n",
       "      <th>18</th>\n",
       "      <td>angle_of_incidence</td>\n",
       "      <td>-401.24</td>\n",
       "      <td>401.24</td>\n",
       "    </tr>\n",
       "    <tr>\n",
       "      <th>20</th>\n",
       "      <td>azimuth</td>\n",
       "      <td>-395.66</td>\n",
       "      <td>395.66</td>\n",
       "    </tr>\n",
       "    <tr>\n",
       "      <th>10</th>\n",
       "      <td>shortwave_radiation_backwards_sfc</td>\n",
       "      <td>352.76</td>\n",
       "      <td>352.76</td>\n",
       "    </tr>\n",
       "    <tr>\n",
       "      <th>19</th>\n",
       "      <td>zenith</td>\n",
       "      <td>-156.03</td>\n",
       "      <td>156.03</td>\n",
       "    </tr>\n",
       "    <tr>\n",
       "      <th>15</th>\n",
       "      <td>wind_speed_900_mb</td>\n",
       "      <td>-145.07</td>\n",
       "      <td>145.07</td>\n",
       "    </tr>\n",
       "    <tr>\n",
       "      <th>13</th>\n",
       "      <td>wind_speed_80_m_above_gnd</td>\n",
       "      <td>109.92</td>\n",
       "      <td>109.92</td>\n",
       "    </tr>\n",
       "    <tr>\n",
       "      <th>3</th>\n",
       "      <td>mean_sea_level_pressure_MSL</td>\n",
       "      <td>109.48</td>\n",
       "      <td>109.48</td>\n",
       "    </tr>\n",
       "    <tr>\n",
       "      <th>2</th>\n",
       "      <td>relative_humidity_2_m_above_gnd</td>\n",
       "      <td>-98.38</td>\n",
       "      <td>98.38</td>\n",
       "    </tr>\n",
       "    <tr>\n",
       "      <th>1</th>\n",
       "      <td>temperature_2_m_above_gnd</td>\n",
       "      <td>-84.91</td>\n",
       "      <td>84.91</td>\n",
       "    </tr>\n",
       "    <tr>\n",
       "      <th>6</th>\n",
       "      <td>total_cloud_cover_sfc</td>\n",
       "      <td>-60.22</td>\n",
       "      <td>60.22</td>\n",
       "    </tr>\n",
       "    <tr>\n",
       "      <th>9</th>\n",
       "      <td>low_cloud_cover_low_cld_lay</td>\n",
       "      <td>-50.44</td>\n",
       "      <td>50.44</td>\n",
       "    </tr>\n",
       "    <tr>\n",
       "      <th>8</th>\n",
       "      <td>medium_cloud_cover_mid_cld_lay</td>\n",
       "      <td>-43.53</td>\n",
       "      <td>43.53</td>\n",
       "    </tr>\n",
       "    <tr>\n",
       "      <th>7</th>\n",
       "      <td>high_cloud_cover_high_cld_lay</td>\n",
       "      <td>-39.59</td>\n",
       "      <td>39.59</td>\n",
       "    </tr>\n",
       "    <tr>\n",
       "      <th>12</th>\n",
       "      <td>wind_direction_10_m_above_gnd</td>\n",
       "      <td>32.72</td>\n",
       "      <td>32.72</td>\n",
       "    </tr>\n",
       "    <tr>\n",
       "      <th>17</th>\n",
       "      <td>wind_gust_10_m_above_gnd</td>\n",
       "      <td>-32.57</td>\n",
       "      <td>32.57</td>\n",
       "    </tr>\n",
       "    <tr>\n",
       "      <th>16</th>\n",
       "      <td>wind_direction_900_mb</td>\n",
       "      <td>-27.88</td>\n",
       "      <td>27.88</td>\n",
       "    </tr>\n",
       "    <tr>\n",
       "      <th>14</th>\n",
       "      <td>wind_direction_80_m_above_gnd</td>\n",
       "      <td>17.96</td>\n",
       "      <td>17.96</td>\n",
       "    </tr>\n",
       "    <tr>\n",
       "      <th>5</th>\n",
       "      <td>snowfall_amount_sfc</td>\n",
       "      <td>13.58</td>\n",
       "      <td>13.58</td>\n",
       "    </tr>\n",
       "    <tr>\n",
       "      <th>4</th>\n",
       "      <td>total_precipitation_sfc</td>\n",
       "      <td>-1.13</td>\n",
       "      <td>1.13</td>\n",
       "    </tr>\n",
       "  </tbody>\n",
       "</table>\n",
       "</div>"
      ],
      "text/plain": [
       "                              feature    coef  abs coef\n",
       "18                 angle_of_incidence -401.24    401.24\n",
       "20                            azimuth -395.66    395.66\n",
       "10  shortwave_radiation_backwards_sfc  352.76    352.76\n",
       "19                             zenith -156.03    156.03\n",
       "15                  wind_speed_900_mb -145.07    145.07\n",
       "13          wind_speed_80_m_above_gnd  109.92    109.92\n",
       "3         mean_sea_level_pressure_MSL  109.48    109.48\n",
       "2     relative_humidity_2_m_above_gnd  -98.38     98.38\n",
       "1           temperature_2_m_above_gnd  -84.91     84.91\n",
       "6               total_cloud_cover_sfc  -60.22     60.22\n",
       "9         low_cloud_cover_low_cld_lay  -50.44     50.44\n",
       "8      medium_cloud_cover_mid_cld_lay  -43.53     43.53\n",
       "7       high_cloud_cover_high_cld_lay  -39.59     39.59\n",
       "12      wind_direction_10_m_above_gnd   32.72     32.72\n",
       "17           wind_gust_10_m_above_gnd  -32.57     32.57\n",
       "16              wind_direction_900_mb  -27.88     27.88\n",
       "14      wind_direction_80_m_above_gnd   17.96     17.96\n",
       "5                 snowfall_amount_sfc   13.58     13.58\n",
       "4             total_precipitation_sfc   -1.13      1.13"
      ]
     },
     "execution_count": 58,
     "metadata": {},
     "output_type": "execute_result"
    }
   ],
   "source": [
    "lr_lasso_feat_df.sort_values(by = 'abs coef', ascending = False)"
   ]
  },
  {
   "cell_type": "code",
   "execution_count": 63,
   "id": "f5bcc54d",
   "metadata": {},
   "outputs": [
    {
     "data": {
      "text/html": [
       "<div>\n",
       "<style scoped>\n",
       "    .dataframe tbody tr th:only-of-type {\n",
       "        vertical-align: middle;\n",
       "    }\n",
       "\n",
       "    .dataframe tbody tr th {\n",
       "        vertical-align: top;\n",
       "    }\n",
       "\n",
       "    .dataframe thead th {\n",
       "        text-align: right;\n",
       "    }\n",
       "</style>\n",
       "<table border=\"1\" class=\"dataframe\">\n",
       "  <thead>\n",
       "    <tr style=\"text-align: right;\">\n",
       "      <th></th>\n",
       "      <th>feature</th>\n",
       "      <th>coef</th>\n",
       "      <th>abs coef</th>\n",
       "    </tr>\n",
       "  </thead>\n",
       "  <tbody>\n",
       "    <tr>\n",
       "      <th>75</th>\n",
       "      <td>mean_sea_level_pressure_MSL angle_of_incidence</td>\n",
       "      <td>-87.25</td>\n",
       "      <td>87.25</td>\n",
       "    </tr>\n",
       "    <tr>\n",
       "      <th>18</th>\n",
       "      <td>angle_of_incidence</td>\n",
       "      <td>-85.90</td>\n",
       "      <td>85.90</td>\n",
       "    </tr>\n",
       "    <tr>\n",
       "      <th>226</th>\n",
       "      <td>angle_of_incidence zenith</td>\n",
       "      <td>-73.82</td>\n",
       "      <td>73.82</td>\n",
       "    </tr>\n",
       "    <tr>\n",
       "      <th>230</th>\n",
       "      <td>azimuth^2</td>\n",
       "      <td>-66.40</td>\n",
       "      <td>66.40</td>\n",
       "    </tr>\n",
       "    <tr>\n",
       "      <th>225</th>\n",
       "      <td>angle_of_incidence^2</td>\n",
       "      <td>-63.31</td>\n",
       "      <td>63.31</td>\n",
       "    </tr>\n",
       "    <tr>\n",
       "      <th>228</th>\n",
       "      <td>zenith^2</td>\n",
       "      <td>-61.09</td>\n",
       "      <td>61.09</td>\n",
       "    </tr>\n",
       "    <tr>\n",
       "      <th>19</th>\n",
       "      <td>zenith</td>\n",
       "      <td>-57.31</td>\n",
       "      <td>57.31</td>\n",
       "    </tr>\n",
       "    <tr>\n",
       "      <th>76</th>\n",
       "      <td>mean_sea_level_pressure_MSL zenith</td>\n",
       "      <td>-57.19</td>\n",
       "      <td>57.19</td>\n",
       "    </tr>\n",
       "    <tr>\n",
       "      <th>67</th>\n",
       "      <td>mean_sea_level_pressure_MSL shortwave_radiation_backwards_sfc</td>\n",
       "      <td>55.78</td>\n",
       "      <td>55.78</td>\n",
       "    </tr>\n",
       "    <tr>\n",
       "      <th>10</th>\n",
       "      <td>shortwave_radiation_backwards_sfc</td>\n",
       "      <td>54.24</td>\n",
       "      <td>54.24</td>\n",
       "    </tr>\n",
       "  </tbody>\n",
       "</table>\n",
       "</div>"
      ],
      "text/plain": [
       "                                                           feature   coef  \\\n",
       "75                  mean_sea_level_pressure_MSL angle_of_incidence -87.25   \n",
       "18                                              angle_of_incidence -85.90   \n",
       "226                                      angle_of_incidence zenith -73.82   \n",
       "230                                                      azimuth^2 -66.40   \n",
       "225                                           angle_of_incidence^2 -63.31   \n",
       "228                                                       zenith^2 -61.09   \n",
       "19                                                          zenith -57.31   \n",
       "76                              mean_sea_level_pressure_MSL zenith -57.19   \n",
       "67   mean_sea_level_pressure_MSL shortwave_radiation_backwards_sfc  55.78   \n",
       "10                               shortwave_radiation_backwards_sfc  54.24   \n",
       "\n",
       "     abs coef  \n",
       "75      87.25  \n",
       "18      85.90  \n",
       "226     73.82  \n",
       "230     66.40  \n",
       "225     63.31  \n",
       "228     61.09  \n",
       "19      57.31  \n",
       "76      57.19  \n",
       "67      55.78  \n",
       "10      54.24  "
      ]
     },
     "execution_count": 63,
     "metadata": {},
     "output_type": "execute_result"
    }
   ],
   "source": [
    "ridge_feat_df.sort_values(by = 'abs coef', ascending = False)[:10]"
   ]
  },
  {
   "cell_type": "code",
   "execution_count": 64,
   "id": "a8b4e028",
   "metadata": {},
   "outputs": [
    {
     "data": {
      "text/html": [
       "<div>\n",
       "<style scoped>\n",
       "    .dataframe tbody tr th:only-of-type {\n",
       "        vertical-align: middle;\n",
       "    }\n",
       "\n",
       "    .dataframe tbody tr th {\n",
       "        vertical-align: top;\n",
       "    }\n",
       "\n",
       "    .dataframe thead th {\n",
       "        text-align: right;\n",
       "    }\n",
       "</style>\n",
       "<table border=\"1\" class=\"dataframe\">\n",
       "  <thead>\n",
       "    <tr style=\"text-align: right;\">\n",
       "      <th></th>\n",
       "      <th>feature</th>\n",
       "      <th>coef</th>\n",
       "      <th>abs coef</th>\n",
       "    </tr>\n",
       "  </thead>\n",
       "  <tbody>\n",
       "    <tr>\n",
       "      <th>0</th>\n",
       "      <td>1</td>\n",
       "      <td>0.00</td>\n",
       "      <td>0.00</td>\n",
       "    </tr>\n",
       "    <tr>\n",
       "      <th>93</th>\n",
       "      <td>total_precipitation_sfc zenith</td>\n",
       "      <td>-0.06</td>\n",
       "      <td>0.06</td>\n",
       "    </tr>\n",
       "    <tr>\n",
       "      <th>73</th>\n",
       "      <td>mean_sea_level_pressure_MSL wind_direction_900_mb</td>\n",
       "      <td>0.07</td>\n",
       "      <td>0.07</td>\n",
       "    </tr>\n",
       "    <tr>\n",
       "      <th>160</th>\n",
       "      <td>low_cloud_cover_low_cld_lay wind_direction_900_mb</td>\n",
       "      <td>-0.12</td>\n",
       "      <td>0.12</td>\n",
       "    </tr>\n",
       "    <tr>\n",
       "      <th>189</th>\n",
       "      <td>wind_direction_10_m_above_gnd wind_speed_900_mb</td>\n",
       "      <td>0.13</td>\n",
       "      <td>0.13</td>\n",
       "    </tr>\n",
       "    <tr>\n",
       "      <th>140</th>\n",
       "      <td>medium_cloud_cover_mid_cld_lay^2</td>\n",
       "      <td>0.17</td>\n",
       "      <td>0.17</td>\n",
       "    </tr>\n",
       "    <tr>\n",
       "      <th>194</th>\n",
       "      <td>wind_direction_10_m_above_gnd azimuth</td>\n",
       "      <td>-0.24</td>\n",
       "      <td>0.24</td>\n",
       "    </tr>\n",
       "    <tr>\n",
       "      <th>35</th>\n",
       "      <td>temperature_2_m_above_gnd wind_speed_900_mb</td>\n",
       "      <td>-0.26</td>\n",
       "      <td>0.26</td>\n",
       "    </tr>\n",
       "    <tr>\n",
       "      <th>101</th>\n",
       "      <td>snowfall_amount_sfc wind_speed_10_m_above_gnd</td>\n",
       "      <td>-0.28</td>\n",
       "      <td>0.28</td>\n",
       "    </tr>\n",
       "    <tr>\n",
       "      <th>16</th>\n",
       "      <td>wind_direction_900_mb</td>\n",
       "      <td>-0.29</td>\n",
       "      <td>0.29</td>\n",
       "    </tr>\n",
       "  </tbody>\n",
       "</table>\n",
       "</div>"
      ],
      "text/plain": [
       "                                               feature  coef  abs coef\n",
       "0                                                    1  0.00      0.00\n",
       "93                      total_precipitation_sfc zenith -0.06      0.06\n",
       "73   mean_sea_level_pressure_MSL wind_direction_900_mb  0.07      0.07\n",
       "160  low_cloud_cover_low_cld_lay wind_direction_900_mb -0.12      0.12\n",
       "189    wind_direction_10_m_above_gnd wind_speed_900_mb  0.13      0.13\n",
       "140                   medium_cloud_cover_mid_cld_lay^2  0.17      0.17\n",
       "194              wind_direction_10_m_above_gnd azimuth -0.24      0.24\n",
       "35         temperature_2_m_above_gnd wind_speed_900_mb -0.26      0.26\n",
       "101      snowfall_amount_sfc wind_speed_10_m_above_gnd -0.28      0.28\n",
       "16                               wind_direction_900_mb -0.29      0.29"
      ]
     },
     "execution_count": 64,
     "metadata": {},
     "output_type": "execute_result"
    }
   ],
   "source": [
    "ridge_feat_df.sort_values(by = 'abs coef', ascending = True)[:10]"
   ]
  },
  {
   "cell_type": "markdown",
   "id": "8d4c26d4",
   "metadata": {},
   "source": [
    "The feature coefficients seem to consistently show that the positioning of the panel - angle of incidence, zenith, azimuth - has the greatest impact on power generated. This makes complete sense, as sunlight needs to be falling on the face of the panel in order for them to work best. In addition, backwards shortwave radiation seems to be very important too, which also makes perfect sense. This is a measure of visible spectrum radiation - in other words, panels that are located in areas of high sunlight generate the most power. In contrast, measures of snowfall and precipitation seem to have the least impact on the power generated, while other measures of meteorological conditions, such as wind speed, wind direction, and cloud cover, seem to fall somewhere in the middle. Mean sea level pressure appears to be more important than these factors, but less important than the position and radiation factors.\n",
    "\n",
    "Put together, this would seem to indicate that the location of the panels in high-sunlight areas and the correct positioning of the panels to receive direct sunlight are far more important in generating power than daily weather variations."
   ]
  },
  {
   "cell_type": "code",
   "execution_count": null,
   "id": "37bd8a8d",
   "metadata": {},
   "outputs": [],
   "source": []
  }
 ],
 "metadata": {
  "kernelspec": {
   "display_name": "Python 3 (ipykernel)",
   "language": "python",
   "name": "python3"
  },
  "language_info": {
   "codemirror_mode": {
    "name": "ipython",
    "version": 3
   },
   "file_extension": ".py",
   "mimetype": "text/x-python",
   "name": "python",
   "nbconvert_exporter": "python",
   "pygments_lexer": "ipython3",
   "version": "3.11.5"
  }
 },
 "nbformat": 4,
 "nbformat_minor": 5
}
